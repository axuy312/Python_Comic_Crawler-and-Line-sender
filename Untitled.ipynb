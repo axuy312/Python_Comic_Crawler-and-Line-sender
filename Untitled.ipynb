{
 "cells": [
  {
   "cell_type": "code",
   "execution_count": null,
   "metadata": {},
   "outputs": [
    {
     "name": "stdout",
     "output_type": "stream",
     "text": [
      " * Serving Flask app \"__main__\" (lazy loading)\n",
      " * Environment: production\n",
      "   WARNING: This is a development server. Do not use it in a production deployment.\n",
      "   Use a production WSGI server instead.\n",
      " * Debug mode: off\n"
     ]
    },
    {
     "name": "stderr",
     "output_type": "stream",
     "text": [
      " * Running on http://127.0.0.1:5000/ (Press CTRL+C to quit)\n",
      "127.0.0.1 - - [11/Jul/2020 14:18:58] \"\u001b[37mGET /callback?code=4aXmld337OG3rLEEenUNyg&state=NO_STATE HTTP/1.1\u001b[0m\" 200 -\n",
      "127.0.0.1 - - [11/Jul/2020 14:18:58] \"\u001b[33mGET /favicon.ico HTTP/1.1\u001b[0m\" 404 -\n",
      "127.0.0.1 - - [11/Jul/2020 14:53:25] \"\u001b[37mGET /callback?code=4aXmld337OG3rLEEenUNyg&state=NO_STATE HTTP/1.1\u001b[0m\" 200 -\n",
      "127.0.0.1 - - [11/Jul/2020 15:04:00] \"\u001b[37mGET /callback?code=gar2a8vZZWRUqLairRZbsp&state=NO_STATE HTTP/1.1\u001b[0m\" 200 -\n",
      "127.0.0.1 - - [11/Jul/2020 15:04:08] \"\u001b[37mGET /callback?code=gar2a8vZZWRUqLairRZbsp&state=NO_STATE HTTP/1.1\u001b[0m\" 200 -\n",
      "127.0.0.1 - - [11/Jul/2020 16:30:02] \"\u001b[37mGET /callback?code=QmJUYd2QK1HnY04wWiKAuY&state=NO_STATE HTTP/1.1\u001b[0m\" 200 -\n",
      "127.0.0.1 - - [11/Jul/2020 16:31:42] \"\u001b[37mGET /callback?code=QmJUYd2QK1HnY04wWiKAuY&state=NO_STATE HTTP/1.1\u001b[0m\" 200 -\n",
      "127.0.0.1 - - [11/Jul/2020 16:32:51] \"\u001b[37mGET /callback?code=IwdNcLlt774e3mtrJmEM1X&state=NO_STATE HTTP/1.1\u001b[0m\" 200 -\n",
      "127.0.0.1 - - [11/Jul/2020 16:39:01] \"\u001b[37mGET /callback?code=wIbWwt15yIC6Fa6aIbFxEC&state=NO_STATE HTTP/1.1\u001b[0m\" 200 -\n",
      "127.0.0.1 - - [11/Jul/2020 16:40:32] \"\u001b[37mGET /callback?code=WWGcyRwXgEfX2WbS9KIyiY&state=NO_STATE HTTP/1.1\u001b[0m\" 200 -\n",
      "127.0.0.1 - - [11/Jul/2020 16:41:35] \"\u001b[37mGET /callback?code=l1O0bL4F20eqkIMZphxcar&state=NO_STATE HTTP/1.1\u001b[0m\" 200 -\n",
      "127.0.0.1 - - [11/Jul/2020 16:42:07] \"\u001b[37mGET /callback?code=sgUERc0XcSnjggMZOsgZoU&state=NO_STATE HTTP/1.1\u001b[0m\" 200 -\n",
      "127.0.0.1 - - [11/Jul/2020 16:45:56] \"\u001b[37mGET /callback?code=I0yBoA7MpApHkAWK3KwUPo&state=NO_STATE HTTP/1.1\u001b[0m\" 200 -\n",
      "127.0.0.1 - - [11/Jul/2020 16:46:47] \"\u001b[37mGET /callback?code=ai1QDaTX8RvJzttTKzXcWA&state=NO_STATE HTTP/1.1\u001b[0m\" 200 -\n",
      "127.0.0.1 - - [11/Jul/2020 16:47:04] \"\u001b[37mGET /callback?code=MV5RPFtMoGDLxUWslmJsf3&state=NO_STATE HTTP/1.1\u001b[0m\" 200 -\n",
      "127.0.0.1 - - [11/Jul/2020 16:47:25] \"\u001b[37mGET /callback?code=S6UPS44XJfR3KVGOrigTHo&state=NO_STATE HTTP/1.1\u001b[0m\" 200 -\n",
      "127.0.0.1 - - [11/Jul/2020 16:47:39] \"\u001b[37mGET /callback?code=FDpoecod0uJoIWCn7KgtVo&state=NO_STATE HTTP/1.1\u001b[0m\" 200 -\n",
      "127.0.0.1 - - [11/Jul/2020 16:47:58] \"\u001b[37mGET /callback?code=CUZkFfMV427T2yUoA8TJsP&state=NO_STATE HTTP/1.1\u001b[0m\" 200 -\n",
      "127.0.0.1 - - [11/Jul/2020 16:48:17] \"\u001b[37mGET /callback?code=iHVgKjSO6XjhTSz4xni01b&state=NO_STATE HTTP/1.1\u001b[0m\" 200 -\n",
      "127.0.0.1 - - [11/Jul/2020 16:48:30] \"\u001b[37mGET /callback?code=hdAHUHa8TnZf63YaMwjpnU&state=NO_STATE HTTP/1.1\u001b[0m\" 200 -\n",
      "127.0.0.1 - - [11/Jul/2020 16:48:45] \"\u001b[37mGET /callback?code=pbDW3nlDAegBUbNrJW42Y2&state=NO_STATE HTTP/1.1\u001b[0m\" 200 -\n",
      "127.0.0.1 - - [11/Jul/2020 16:49:03] \"\u001b[37mGET /callback?code=0sdocP9cSz9R4bqFho8nOs&state=NO_STATE HTTP/1.1\u001b[0m\" 200 -\n",
      "127.0.0.1 - - [11/Jul/2020 16:49:14] \"\u001b[37mGET /callback?code=CO6FyJNqffGtuTPJ5R0RWR&state=NO_STATE HTTP/1.1\u001b[0m\" 200 -\n",
      "127.0.0.1 - - [11/Jul/2020 16:49:35] \"\u001b[37mGET /callback?code=OvD3GAV7aYob6gnAlkLX28&state=NO_STATE HTTP/1.1\u001b[0m\" 200 -\n",
      "127.0.0.1 - - [11/Jul/2020 16:49:48] \"\u001b[37mGET /callback?code=KfBpF9K7h933OiLBshRTQN&state=NO_STATE HTTP/1.1\u001b[0m\" 200 -\n",
      "127.0.0.1 - - [11/Jul/2020 16:50:02] \"\u001b[37mGET /callback?code=MnioskSz5IA7jaM92Omxs1&state=NO_STATE HTTP/1.1\u001b[0m\" 200 -\n",
      "127.0.0.1 - - [11/Jul/2020 16:50:20] \"\u001b[37mGET /callback?code=Z6YLLI7pIqzan015fFFPUQ&state=NO_STATE HTTP/1.1\u001b[0m\" 200 -\n",
      "127.0.0.1 - - [11/Jul/2020 16:50:56] \"\u001b[37mGET /callback?code=waJwSvs0qJE92KpfypEPyd&state=NO_STATE HTTP/1.1\u001b[0m\" 200 -\n",
      "127.0.0.1 - - [11/Jul/2020 16:55:35] \"\u001b[37mGET /callback?code=Yhpz4JHzzpYJn9hqnvDy6V&state=NO_STATE HTTP/1.1\u001b[0m\" 200 -\n",
      "127.0.0.1 - - [11/Jul/2020 16:55:49] \"\u001b[37mGET /callback?code=RqmhdlmvRNxBKN8nWaDW5H&state=NO_STATE HTTP/1.1\u001b[0m\" 200 -\n",
      "127.0.0.1 - - [11/Jul/2020 16:55:58] \"\u001b[37mGET /callback?code=oiLdWyzwMjkiDaw7IHqetX&state=NO_STATE HTTP/1.1\u001b[0m\" 200 -\n"
     ]
    }
   ],
   "source": [
    "#! pip install flask\n",
    "from flask import Flask,jsonify,request\n",
    "app=Flask(__name__)\n",
    "\n",
    "@app.route(\"/callback\")\n",
    "def callback():\n",
    "    return jsonify({'data' : request.url})\n",
    "\n",
    "if __name__==\"__main__\":\n",
    "        app.run()"
   ]
  },
  {
   "cell_type": "code",
   "execution_count": null,
   "metadata": {},
   "outputs": [],
   "source": []
  }
 ],
 "metadata": {
  "kernelspec": {
   "display_name": "Python 3",
   "language": "python",
   "name": "python3"
  },
  "language_info": {
   "codemirror_mode": {
    "name": "ipython",
    "version": 3
   },
   "file_extension": ".py",
   "mimetype": "text/x-python",
   "name": "python",
   "nbconvert_exporter": "python",
   "pygments_lexer": "ipython3",
   "version": "3.5.2"
  }
 },
 "nbformat": 4,
 "nbformat_minor": 4
}
